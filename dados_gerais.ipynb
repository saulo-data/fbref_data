{
 "cells": [
  {
   "cell_type": "markdown",
   "id": "7ca0798c-4658-4451-ac2f-75851c41d0db",
   "metadata": {},
   "source": [
    "# Relação entre dados de futebol para orientar suas apostas | Fonte FBRef.com"
   ]
  },
  {
   "cell_type": "markdown",
   "id": "5d5e1628-ca2a-400e-b3c2-125877c46caa",
   "metadata": {},
   "source": [
    "## Importação das bibliotecas"
   ]
  },
  {
   "cell_type": "code",
   "execution_count": null,
   "id": "0a614c0c-0742-4422-aea4-38618da08024",
   "metadata": {},
   "outputs": [],
   "source": [
    "import pandas as pd\n",
    "import matplotlib.pyplot as plt\n",
    "import seaborn as sns"
   ]
  },
  {
   "cell_type": "markdown",
   "id": "adb66de5-5ccf-45a7-9e73-0b80c83a690b",
   "metadata": {},
   "source": [
    "\n",
    "## Carregamento dos dados\n"
   ]
  },
  {
   "cell_type": "code",
   "execution_count": null,
   "id": "6c347e4c-e644-4f4c-a2a3-967ca077a66d",
   "metadata": {},
   "outputs": [],
   "source": [
    "seasons = ['2017-2018/2017-2018-', '2018-2019/2018-2019-', '2019-2020/2019-2020-', '2020-2021/2020-2021-', '2021-2022/2021-2021-', '']\n",
    "links = [f'https://fbref.com/en/comps/Big5/{x}Big-5-European-Leagues-Stats' for x in seasons]\n",
    "links"
   ]
  },
  {
   "cell_type": "code",
   "execution_count": null,
   "id": "89524cec-2d25-4ac7-b805-61ee414006fe",
   "metadata": {},
   "outputs": [],
   "source": [
    "dfs = [pd.read_html(link)[0] for link in links]\n",
    "dff = pd.concat(dfs)    \n",
    "dff.head()"
   ]
  },
  {
   "cell_type": "markdown",
   "id": "f4662a0f-83f7-4751-96db-0ef5d3a9290e",
   "metadata": {},
   "source": [
    "## Preparação dos Dados"
   ]
  },
  {
   "cell_type": "code",
   "execution_count": null,
   "id": "2214793d-f999-471f-ad4c-029809e81d8d",
   "metadata": {},
   "outputs": [],
   "source": [
    "dff['xG/MP'] = round(dff['xG'] / dff['MP'], 2)"
   ]
  },
  {
   "cell_type": "code",
   "execution_count": null,
   "id": "0a5be9b0-4f06-4283-962d-4c62c66ef2c0",
   "metadata": {},
   "outputs": [],
   "source": [
    "#dff = dff[['Pts/MP', 'xGD/90', 'xG/MP']]"
   ]
  },
  {
   "cell_type": "code",
   "execution_count": null,
   "id": "bbfe21e0-a328-49c2-8ab5-fc94ca7e44ad",
   "metadata": {},
   "outputs": [],
   "source": [
    "dff.head()"
   ]
  },
  {
   "cell_type": "markdown",
   "id": "45814f44-f9bd-4728-86a8-f55eec3737a5",
   "metadata": {},
   "source": [
    "## Gráfico"
   ]
  },
  {
   "cell_type": "code",
   "execution_count": null,
   "id": "5b7a05c5-d3e9-4ab9-9c19-e9167f8f702d",
   "metadata": {},
   "outputs": [],
   "source": [
    "plt.figure(figsize=(20, 10))\n",
    "sns.set_theme('paper')\n",
    "g = sns.FacetGrid(dff, col='Country', hue='xG/MP', palette='Greens')\n",
    "g.map(sns.scatterplot, 'Pts/MP', 'xGD/90');"
   ]
  }
 ],
 "metadata": {
  "kernelspec": {
   "display_name": "Python 3 (ipykernel)",
   "language": "python",
   "name": "python3"
  },
  "language_info": {
   "codemirror_mode": {
    "name": "ipython",
    "version": 3
   },
   "file_extension": ".py",
   "mimetype": "text/x-python",
   "name": "python",
   "nbconvert_exporter": "python",
   "pygments_lexer": "ipython3",
   "version": "3.9.12"
  }
 },
 "nbformat": 4,
 "nbformat_minor": 5
}
